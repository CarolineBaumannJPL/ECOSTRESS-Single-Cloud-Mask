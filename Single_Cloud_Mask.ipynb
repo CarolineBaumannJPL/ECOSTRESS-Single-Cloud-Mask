{
 "cells": [
  {
   "cell_type": "markdown",
   "metadata": {},
   "source": [
    "# Applying a Cloud Mask to a Single Image\n",
    "### ECOSTRESS Tutorials\n",
    "###### This code is best used for instances when you have a single image and its associated cloud mask file that you want to be applied. If you want multiple images to be cloud masked at once, see our Batch Cloud Mask code.\n",
    "###### This code is written to cloud mask a Land Surface Temperature (LST) file, but may be modified for use with other ECOSTRESS data products."
   ]
  },
  {
   "cell_type": "markdown",
   "metadata": {},
   "source": [
    "### Import the Libraries we Need to Apply the Cloud Mask"
   ]
  },
  {
   "cell_type": "code",
   "execution_count": null,
   "metadata": {},
   "outputs": [],
   "source": [
    "#Import the libraries we need to apply the cloud mask\n",
    "from os.path import join, basename, splitext\n",
    "from datetime import datetime\n",
    "import numpy as np\n",
    "import rioxarray\n",
    "import hvplot.xarray\n",
    "import rasterio"
   ]
  },
  {
   "cell_type": "markdown",
   "metadata": {},
   "source": [
    "### Load and View the Surface Temperature Image"
   ]
  },
  {
   "cell_type": "code",
   "execution_count": null,
   "metadata": {},
   "outputs": [],
   "source": [
    "#Replace this with the path to your LST image, wrapped in quotes\n",
    "ST_filepath = r\"Replace_this_text_with_file_path\"\n",
    "#Gets the date from the file name\n",
    "datetime_UTC = datetime.strptime(splitext(basename(ST_filepath))[0].split(\"_\")[-2][3:], \"%Y%j%H%M%S\")\n",
    "#Opens the file as a raster image\n",
    "ST = rioxarray.open_rasterio(ST_filepath).squeeze(\"band\", drop=True)\n",
    "#Replaces 0s with NaN, then multiplies by the scale factor to get temperature in Kelvin\n",
    "#Then, to covert from Kelvin to Celcius, we subtract 273.15\n",
    "ST.data = np.where(ST.data == 0, np.nan, ST.data * 0.02) - 273.15\n",
    "#rio.reproject reprojects the data into the desired coordinate system\n",
    "#hvplot.image plots the image with the following parameters\n",
    "ST.rio.reproject(\"EPSG:3857\").hvplot.image(\n",
    "    cmap=\"jet\", #Uses the jet colormap\n",
    "    tiles=\"OSM\", #Uses Open Street Map as the background\n",
    "    alpha=0.7, #Sets the transparency of the image to 70%\n",
    "    #Gives it a title based on the date\n",
    "    title = f\"ECOSTRESS Surface Temperature {datetime_UTC:%Y-%m-%d %H:%M:%S} UTC Un-Masked\",\n",
    "    width=1080, #defines the size of the plot\n",
    "    height=720\n",
    ")"
   ]
  },
  {
   "cell_type": "markdown",
   "metadata": {},
   "source": [
    "### Load and View the Cloud Mask"
   ]
  },
  {
   "cell_type": "code",
   "execution_count": null,
   "metadata": {},
   "outputs": [],
   "source": [
    "#Replace this with the folder name of where the files are kept, wrapped in quotes\n",
    "#Make sure the date of your cloud mask matches the date of your ST file\n",
    "cloud_filepath = r\"Replce_this_text_with_file_path\"\n",
    "#Opens the file as a raster image\n",
    "cloud = rioxarray.open_rasterio(cloud_filepath).squeeze(\"band\", drop=True).rio.reproject_match(ST)\n",
    "#Bitshifts the array two bits to the right, and uses & 1 to create a binary cloud mask\n",
    "cloud.data = (cloud.data >> 2) & 1\n",
    "#rio.reproject reprojects the data into the desired coordinate system\n",
    "#hvplot.image plots the image with the following parameters\n",
    "cloud.rio.reproject(\"EPSG:3857\").hvplot.image(\n",
    "    cmap=\"jet\", #Uses the jet color map. Red will show cloud areas that need to be masked out\n",
    "    tiles=\"OSM\", #Uses Open Street Map as the background\n",
    "    alpha=0.7, #Sets the transparency of the image to 70%\n",
    "    #Gives it a title based on the date\n",
    "    title = f\"ECOSTRESS Cloud Mask {datetime_UTC:%Y-%m-%d %H:%M:%S} UTC\",\n",
    "    width=1080, #defines the size of the plot\n",
    "    height=720\n",
    ")"
   ]
  },
  {
   "cell_type": "markdown",
   "metadata": {},
   "source": [
    "### Apply the Cloud Mask to the Surface Temperature Image"
   ]
  },
  {
   "cell_type": "code",
   "execution_count": null,
   "metadata": {},
   "outputs": [],
   "source": [
    "#If the cloud mask is true, set the pixel to NaN \n",
    "ST.data = np.where(cloud.data, np.nan, ST.data)\n",
    "#rio.reproject reprojects the data into the desired coordinate system\n",
    "ST_reprojected = ST.rio.reproject(\"EPSG:3857\")\n",
    "#hvplot.image plots the image with the following parameters\n",
    "ST_reprojected.hvplot.image(\n",
    "    cmap=\"jet\", #Uses the jet color map\n",
    "    tiles=\"OSM\", #Uses Open Street Map as the background\n",
    "    alpha=0.7, #Sets the transparency of the image to 70%\n",
    "    #Gives it a title based on the date\n",
    "    title = f\"ECOSTRESS Surface Temperature {datetime_UTC:%Y-%m-%d %H:%M:%S} UTC Masked\",\n",
    "    width=1080, #defines the size of the plot\n",
    "    height=720\n",
    ")"
   ]
  },
  {
   "cell_type": "markdown",
   "metadata": {},
   "source": [
    "### Save the Masked Image"
   ]
  },
  {
   "cell_type": "code",
   "execution_count": null,
   "metadata": {},
   "outputs": [],
   "source": [
    "#Fill in the variables below with the location of your files\n",
    "#Replace this with the folder name of where you want the output files to be saved, wrapped in quotes\n",
    "output_folder_path = r\"Replace_this_text_with_folder_path\" \n",
    "#Replace this with the file name that you want the masked image to be saved as, wrapped in quotes and endig in .tif\n",
    "output_file_name = f\"ECOSTRESS_ST_{datetime_UTC:%Y-%m-%d %H:%M:%S}_Masked.tif\"\n",
    "#Joins the file name with its desired location\n",
    "output_file_path = join(output_folder_path , output_file_name)\n",
    "\n",
    "#Get the metadata from the original ST file\n",
    "with rasterio.open(ST_filepath) as src:\n",
    "    out_meta = src.meta.copy()\n",
    "\n",
    "#Update the metadata without applying the scale factor again\n",
    "out_meta.update({\n",
    "    \"driver\": \"GTiff\",\n",
    "    \"height\": ST.shape[0],\n",
    "    \"width\": ST.shape[1],\n",
    "     \"dtype\": 'float32'\n",
    "})\n",
    "    \n",
    "#Save the masked image with the updated metadata\n",
    "with rasterio.open(output_file_path, 'w', **out_meta) as output_raster:\n",
    "    output_raster.write(ST.data.astype('float32'), 1)"
   ]
  }
 ],
 "metadata": {
  "kernelspec": {
   "display_name": "ECOSTRESS",
   "language": "python",
   "name": "python3"
  },
  "language_info": {
   "codemirror_mode": {
    "name": "ipython",
    "version": 3
   },
   "file_extension": ".py",
   "mimetype": "text/x-python",
   "name": "python",
   "nbconvert_exporter": "python",
   "pygments_lexer": "ipython3",
   "version": "3.12.1"
  }
 },
 "nbformat": 4,
 "nbformat_minor": 2
}
